{
 "cells": [
  {
   "cell_type": "markdown",
   "metadata": {},
   "source": [
    "# Flight Path Simulators"
   ]
  },
  {
   "cell_type": "markdown",
   "metadata": {},
   "source": [
    "### import packages"
   ]
  },
  {
   "cell_type": "code",
   "execution_count": 12,
   "metadata": {},
   "outputs": [],
   "source": [
    "%reload_ext autoreload"
   ]
  },
  {
   "cell_type": "code",
   "execution_count": 5,
   "metadata": {},
   "outputs": [],
   "source": [
    "from bitstaemr import simulators as sim\n",
    "import pandas as pd\n",
    "import matplotlib.pyplot as plt\n",
    "FP = sim.FlightPath()"
   ]
  },
  {
   "cell_type": "code",
   "execution_count": 6,
   "metadata": {},
   "outputs": [],
   "source": [
    "obstacles = [\n",
    "    (10, 10),\n",
    "    (20, 5),\n",
    "    (15, 25)\n",
    "]\n",
    "bird_position = (0,0)\n",
    "flight_distance = 0.5"
   ]
  },
  {
   "cell_type": "code",
   "execution_count": 10,
   "metadata": {},
   "outputs": [
    {
     "data": {
      "text/plain": [
       "[0.8570593636103812,\n",
       " 0.6130350442298965,\n",
       " 0.8458863127304593,\n",
       " 0.3978023695384577,\n",
       " 0.31097157444215207,\n",
       " 0.42872534403449003,\n",
       " 0.41979044961100853,\n",
       " 0.4666549987945554,\n",
       " 0.9644550080816785,\n",
       " 0.09619111561653848,\n",
       " 0.7369108850711935]"
      ]
     },
     "execution_count": 10,
     "metadata": {},
     "output_type": "execute_result"
    }
   ],
   "source": [
    "FP.set_obstacles(obstacles)\n",
    "FP.data['obstacles']\n",
    "FP.set_path()\n",
    "FP.data['path']"
   ]
  },
  {
   "cell_type": "code",
   "execution_count": 11,
   "metadata": {},
   "outputs": [
    {
     "data": {
      "text/plain": [
       "[0.8570593636103812,\n",
       " 0.6130350442298965,\n",
       " 0.8458863127304593,\n",
       " 0.3978023695384577,\n",
       " 0.31097157444215207,\n",
       " 0.42872534403449003,\n",
       " 0.41979044961100853,\n",
       " 0.4666549987945554,\n",
       " 0.9644550080816785,\n",
       " 0.09619111561653848,\n",
       " 0.7369108850711935]"
      ]
     },
     "execution_count": 11,
     "metadata": {},
     "output_type": "execute_result"
    }
   ],
   "source": [
    "FP.data['path']"
   ]
  },
  {
   "cell_type": "code",
   "execution_count": 18,
   "metadata": {},
   "outputs": [
    {
     "name": "stdout",
     "output_type": "stream",
     "text": [
      "[0, 1, 2, 3] (10, 10)\n"
     ]
    }
   ],
   "source": [
    "x = [0,1,2,3]\n",
    "y = FP.data['obstacles'][0]\n",
    "print(x,y)"
   ]
  },
  {
   "cell_type": "code",
   "execution_count": 16,
   "metadata": {},
   "outputs": [
    {
     "name": "stdout",
     "output_type": "stream",
     "text": [
      "range(0, 4)\n"
     ]
    }
   ],
   "source": [
    "print(x)"
   ]
  },
  {
   "cell_type": "code",
   "execution_count": null,
   "metadata": {},
   "outputs": [],
   "source": []
  }
 ],
 "metadata": {
  "kernelspec": {
   "display_name": "base",
   "language": "python",
   "name": "python3"
  },
  "language_info": {
   "codemirror_mode": {
    "name": "ipython",
    "version": 3
   },
   "file_extension": ".py",
   "mimetype": "text/x-python",
   "name": "python",
   "nbconvert_exporter": "python",
   "pygments_lexer": "ipython3",
   "version": "3.9.13"
  }
 },
 "nbformat": 4,
 "nbformat_minor": 2
}
