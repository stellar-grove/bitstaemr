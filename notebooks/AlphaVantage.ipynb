{
 "cells": [
  {
   "cell_type": "code",
   "execution_count": 4,
   "metadata": {},
   "outputs": [],
   "source": [
    "import os\n",
    "import sys"
   ]
  },
  {
   "cell_type": "code",
   "execution_count": 10,
   "metadata": {},
   "outputs": [],
   "source": [
    "env = os.environ"
   ]
  },
  {
   "cell_type": "code",
   "execution_count": 11,
   "metadata": {},
   "outputs": [
    {
     "data": {
      "text/plain": [
       "KeysView(environ({'ALLUSERSPROFILE': 'C:\\\\ProgramData', 'APPDATA': 'C:\\\\Users\\\\DanielKorpon\\\\AppData\\\\Roaming', 'CHROME_CRASHPAD_PIPE_NAME': '\\\\\\\\.\\\\pipe\\\\crashpad_33896_XDNNRADTJXMZQLMQ', 'COMMONPROGRAMFILES': 'C:\\\\Program Files\\\\Common Files', 'COMMONPROGRAMFILES(X86)': 'C:\\\\Program Files (x86)\\\\Common Files', 'COMMONPROGRAMW6432': 'C:\\\\Program Files\\\\Common Files', 'COMPUTERNAME': 'STARFIGHTER533', 'COMSPEC': 'C:\\\\WINDOWS\\\\system32\\\\cmd.exe', 'CONDA_DEFAULT_ENV': 'base', 'CONDA_EXE': 'C:\\\\Users\\\\DanielKorpon\\\\anaconda3\\\\Scripts\\\\conda.exe', 'CONDA_EXES': '\"C:\\\\Users\\\\DanielKorpon\\\\anaconda3\\\\condabin\\\\..\\\\Scripts\\\\conda.exe\"  ', 'CONDA_PREFIX': 'C:\\\\Users\\\\DanielKorpon\\\\anaconda3', 'CONDA_PROMPT_MODIFIER': '(base) ', 'CONDA_PYTHON_EXE': 'C:\\\\Users\\\\DanielKorpon\\\\anaconda3\\\\python.exe', 'CONDA_ROOT': 'C:\\\\Users\\\\DanielKorpon\\\\anaconda3', 'CONDA_SHLVL': '1', 'DRIVERDATA': 'C:\\\\Windows\\\\System32\\\\Drivers\\\\DriverData', 'EFC_34052': '1', 'ELECTRON_RUN_AS_NODE': '1', 'FPS_BROWSER_APP_PROFILE_STRING': 'Internet Explorer', 'FPS_BROWSER_USER_PROFILE_STRING': 'Default', 'HOMEDRIVE': 'C:', 'HOMEPATH': '\\\\Users\\\\DanielKorpon', 'JPY_INTERRUPT_EVENT': '1928', 'LOCALAPPDATA': 'C:\\\\Users\\\\DanielKorpon\\\\AppData\\\\Local', 'LOGONSERVER': '\\\\\\\\STARFIGHTER533', 'NUMBER_OF_PROCESSORS': '8', 'ONEDRIVE': 'C:\\\\Users\\\\DanielKorpon\\\\OneDrive - Source One Business Services', 'ONEDRIVECOMMERCIAL': 'C:\\\\Users\\\\DanielKorpon\\\\OneDrive - Source One Business Services', 'ORIGINAL_XDG_CURRENT_DESKTOP': 'undefined', 'OS': 'Windows_NT', 'PATH': 'c:\\\\Users\\\\DanielKorpon\\\\anaconda3;C:\\\\Users\\\\DanielKorpon\\\\anaconda3;C:\\\\Users\\\\DanielKorpon\\\\anaconda3\\\\Library\\\\mingw-w64\\\\bin;C:\\\\Users\\\\DanielKorpon\\\\anaconda3\\\\Library\\\\usr\\\\bin;C:\\\\Users\\\\DanielKorpon\\\\anaconda3\\\\Library\\\\bin;C:\\\\Users\\\\DanielKorpon\\\\anaconda3\\\\Scripts;C:\\\\Users\\\\DanielKorpon\\\\anaconda3\\\\bin;C:\\\\Users\\\\DanielKorpon\\\\anaconda3\\\\condabin;C:\\\\WINDOWS\\\\system32;C:\\\\WINDOWS;C:\\\\WINDOWS\\\\System32\\\\Wbem;C:\\\\WINDOWS\\\\System32\\\\WindowsPowerShell\\\\v1.0;C:\\\\WINDOWS\\\\System32\\\\OpenSSH;C:\\\\Program Files (x86)\\\\Microsoft SQL Server\\\\150\\\\DTS\\\\Binn;C:\\\\Program Files\\\\Azure Data Studio\\\\bin;C:\\\\Program Files\\\\Git\\\\cmd;C:\\\\repo\\\\bitstaemr;C:\\\\repo\\\\bitstaemr\\\\chromedriver;C:\\\\Program Files (x86)\\\\Microsoft SQL Server\\\\160\\\\Tools\\\\Binn;C:\\\\Program Files\\\\Microsoft SQL Server\\\\160\\\\Tools\\\\Binn;C:\\\\Program Files\\\\Microsoft SQL Server\\\\Client SDK\\\\ODBC\\\\170\\\\Tools\\\\Binn;C:\\\\Program Files\\\\Microsoft SQL Server\\\\160\\\\DTS\\\\Binn;C:\\\\Program Files\\\\dotnet;C:\\\\Users\\\\DanielKorpon\\\\anaconda3;C:\\\\Users\\\\DanielKorpon\\\\anaconda3\\\\Library\\\\mingw-w64\\\\bin;C:\\\\Users\\\\DanielKorpon\\\\anaconda3\\\\Library\\\\usr\\\\bin;C:\\\\Users\\\\DanielKorpon\\\\anaconda3\\\\Library\\\\bin;C:\\\\Users\\\\DanielKorpon\\\\anaconda3\\\\Scripts;C:\\\\Users\\\\DanielKorpon\\\\AppData\\\\Local\\\\Microsoft\\\\WindowsApps;C:\\\\Program Files\\\\Azure Data Studio\\\\bin;C:\\\\Users\\\\DanielKorpon\\\\AppData\\\\Local\\\\Programs\\\\Microsoft VS Code\\\\bin;C:\\\\repo\\\\bitstaemr\\\\chromedriver;C:\\\\stellar-grove;.', 'PATHEXT': '.COM;.EXE;.BAT;.CMD;.VBS;.VBE;.JS;.JSE;.WSF;.WSH;.MSC', 'PROCESSOR_ARCHITECTURE': 'AMD64', 'PROCESSOR_IDENTIFIER': 'Intel64 Family 6 Model 140 Stepping 1, GenuineIntel', 'PROCESSOR_LEVEL': '6', 'PROCESSOR_REVISION': '8c01', 'PROGRAMDATA': 'C:\\\\ProgramData', 'PROGRAMFILES': 'C:\\\\Program Files', 'PROGRAMFILES(X86)': 'C:\\\\Program Files (x86)', 'PROGRAMW6432': 'C:\\\\Program Files', 'PROMPT': '(base) $P$G', 'PSMODULEPATH': 'C:\\\\Program Files\\\\WindowsPowerShell\\\\Modules;C:\\\\WINDOWS\\\\system32\\\\WindowsPowerShell\\\\v1.0\\\\Modules;C:\\\\Program Files (x86)\\\\Microsoft SQL Server\\\\160\\\\Tools\\\\PowerShell\\\\Modules\\\\', 'PUBLIC': 'C:\\\\Users\\\\Public', 'PYDEVD_IPYTHON_COMPATIBLE_DEBUGGING': '1', 'PYTHONIOENCODING': 'utf-8', 'PYTHONUNBUFFERED': '1', 'PYTHONUTF8': '1', 'SESSIONNAME': 'Console', 'SYSTEMDRIVE': 'C:', 'SYSTEMROOT': 'C:\\\\WINDOWS', 'TEMP': 'C:\\\\Users\\\\DANIEL~1\\\\AppData\\\\Local\\\\Temp', 'TMP': 'C:\\\\Users\\\\DANIEL~1\\\\AppData\\\\Local\\\\Temp', 'USERDOMAIN': 'AzureAD', 'USERDOMAIN_ROAMINGPROFILE': 'AzureAD', 'USERNAME': 'DanielKorpon', 'USERPROFILE': 'C:\\\\Users\\\\DanielKorpon', 'VSCODE_AMD_ENTRYPOINT': 'vs/workbench/api/node/extensionHostProcess', 'VSCODE_CODE_CACHE_PATH': 'C:\\\\Users\\\\DanielKorpon\\\\AppData\\\\Roaming\\\\Code\\\\CachedData\\\\31c37ee8f63491495ac49e43b8544550fbae4533', 'VSCODE_CRASH_REPORTER_PROCESS_TYPE': 'extensionHost', 'VSCODE_CWD': 'C:\\\\repo\\\\bitstaemr\\\\tara', 'VSCODE_HANDLES_UNCAUGHT_ERRORS': 'true', 'VSCODE_IPC_HOOK': '\\\\\\\\.\\\\pipe\\\\edbd464d-1.86.1-main-sock', 'VSCODE_L10N_BUNDLE_LOCATION': '', 'VSCODE_NLS_CONFIG': '{\"locale\":\"en-us\",\"osLocale\":\"en-us\",\"availableLanguages\":{},\"_languagePackSupport\":true}', 'VSCODE_PID': '33896', 'WINDIR': 'C:\\\\WINDOWS', '_CONDA_OLD_CHCP': '437', 'PYDEVD_USE_FRAME_EVAL': 'NO', 'TERM': 'xterm-color', 'CLICOLOR': '1', 'PAGER': 'cat', 'GIT_PAGER': 'cat', 'MPLBACKEND': 'module://matplotlib_inline.backend_inline'}))"
      ]
     },
     "execution_count": 11,
     "metadata": {},
     "output_type": "execute_result"
    }
   ],
   "source": [
    "env.keys()"
   ]
  },
  {
   "cell_type": "code",
   "execution_count": null,
   "metadata": {},
   "outputs": [],
   "source": []
  }
 ],
 "metadata": {
  "kernelspec": {
   "display_name": "base",
   "language": "python",
   "name": "python3"
  },
  "language_info": {
   "codemirror_mode": {
    "name": "ipython",
    "version": 3
   },
   "file_extension": ".py",
   "mimetype": "text/x-python",
   "name": "python",
   "nbconvert_exporter": "python",
   "pygments_lexer": "ipython3",
   "version": "3.9.13"
  }
 },
 "nbformat": 4,
 "nbformat_minor": 2
}
