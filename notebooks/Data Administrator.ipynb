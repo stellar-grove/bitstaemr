{
 "cells": [
  {
   "attachments": {},
   "cell_type": "markdown",
   "metadata": {},
   "source": [
    "# Data Administrator  </br>\n",
    "Use this Jupyter Notebook to create your own databases anywhere on your computer. </br>\n",
    "To use this as part of the Low Cost Data Infrastructure project, set the database location to the desired SharePoint site."
   ]
  },
  {
   "cell_type": "code",
   "execution_count": 1,
   "metadata": {},
   "outputs": [],
   "source": [
    "import sys; sys.path.append(\"../\")\n",
    "import os\n",
    "import dataUtils\n",
    "lcdi = dataUtils.LowCostDataInfrastructure()"
   ]
  },
  {
   "attachments": {},
   "cell_type": "markdown",
   "metadata": {},
   "source": [
    "### Quick Check to see where the database is currently pointed to be set at. ###"
   ]
  },
  {
   "cell_type": "code",
   "execution_count": 2,
   "metadata": {},
   "outputs": [
    {
     "name": "stdout",
     "output_type": "stream",
     "text": [
      "True\n",
      "C:/Users/DanielKorpon/Stellar Grove/dkorpon - Documents/data\n",
      "C:/Users/DanielKorpon/Stellar Grove/dkorpon - Documents/data\n"
     ]
    }
   ],
   "source": [
    "print(lcdi.dbLocation==lcdi.config[\"dbLocation\"])\n",
    "print(lcdi.dbLocation)\n",
    "print(lcdi.config[\"dbLocation\"])\n"
   ]
  },
  {
   "attachments": {},
   "cell_type": "markdown",
   "metadata": {},
   "source": [
    "# Create New Database\n",
    "To create a new database run the cell below, inputting the name of the database you want to create.  This will create a folder, which will act as the database. Inside the database, there will be a series of folders which act as your schema.  From there, .csv files will be added to act as the tables."
   ]
  },
  {
   "cell_type": "code",
   "execution_count": 8,
   "metadata": {},
   "outputs": [
    {
     "name": "stdout",
     "output_type": "stream",
     "text": [
      "None\n"
     ]
    }
   ],
   "source": [
    "print(lcdi.createNewDatabase(\"testDB\"))"
   ]
  },
  {
   "cell_type": "code",
   "execution_count": 9,
   "metadata": {},
   "outputs": [
    {
     "data": {
      "text/plain": [
       "'C:/Users/DanielKorpon/Stellar Grove/dkorpon - Documents/data'"
      ]
     },
     "execution_count": 9,
     "metadata": {},
     "output_type": "execute_result"
    }
   ],
   "source": [
    "lcdi.getDatabaseLocation()"
   ]
  },
  {
   "cell_type": "markdown",
   "metadata": {},
   "source": []
  }
 ],
 "metadata": {
  "kernelspec": {
   "display_name": "base",
   "language": "python",
   "name": "python3"
  },
  "language_info": {
   "codemirror_mode": {
    "name": "ipython",
    "version": 3
   },
   "file_extension": ".py",
   "mimetype": "text/x-python",
   "name": "python",
   "nbconvert_exporter": "python",
   "pygments_lexer": "ipython3",
   "version": "3.9.13"
  },
  "orig_nbformat": 4
 },
 "nbformat": 4,
 "nbformat_minor": 2
}
