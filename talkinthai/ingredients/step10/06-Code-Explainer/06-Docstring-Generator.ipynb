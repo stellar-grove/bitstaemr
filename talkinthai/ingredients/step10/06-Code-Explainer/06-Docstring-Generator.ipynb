{
 "cells": [
  {
   "cell_type": "markdown",
   "id": "0c66a6e9",
   "metadata": {},
   "source": [
    "<a href = \"https://www.pieriantraining.com\"><img src=\"../PT Centered Purple.png\"> </a>\n",
    "\n",
    "<em style=\"text-align:center\">Copyrighted by Pierian Training</em>"
   ]
  },
  {
   "cell_type": "markdown",
   "id": "4e3f9567",
   "metadata": {},
   "source": [
    "# Code Explainer\n",
    "\n",
    "In this lecture we are going to build a code explainer that will create a docstring of a given function! "
   ]
  },
  {
   "cell_type": "markdown",
   "id": "a16d2388",
   "metadata": {},
   "source": [
    "## Imports"
   ]
  },
  {
   "cell_type": "code",
   "execution_count": 1,
   "id": "b07a4229",
   "metadata": {},
   "outputs": [],
   "source": [
    "import inspect  # Used to transform python code to a string\n",
    "import os\n",
    "from openai import OpenAI"
   ]
  },
  {
   "cell_type": "markdown",
   "id": "1c859b34",
   "metadata": {},
   "source": [
    "## OpenAI API\n",
    "\n",
    "Remember to use the notebook as shown, you must set your OpenAI API Key as an environment variable. Obviously, there are many ways you could provide your API Key to the Python code, input() or even hard-coded, but those are typically not recommended for safety reasons. Having it as an environment variable let's the key live on the computer, but not actually be present in the code."
   ]
  },
  {
   "cell_type": "code",
   "execution_count": 2,
   "id": "0e4e9892",
   "metadata": {},
   "outputs": [],
   "source": [
    "client = OpenAI()"
   ]
  },
  {
   "cell_type": "markdown",
   "id": "e98db7b7",
   "metadata": {},
   "source": [
    "## Prompt design\n",
    "As we want to obtain explanation about what some piece of code does, as well as a list of the possible bugs, we might want to use two separate prompts and later combine the result:"
   ]
  },
  {
   "cell_type": "code",
   "execution_count": 3,
   "id": "c830b659",
   "metadata": {},
   "outputs": [],
   "source": [
    "def create_system_prompt():\n",
    "    return \"Create a high quality docstring for the given python function. Do not include the function in your result.\"\n",
    "    \n",
    "def docstring_prompt(code):\n",
    "    prompt = f\"{code}\"\n",
    "    return prompt"
   ]
  },
  {
   "cell_type": "code",
   "execution_count": 4,
   "id": "96ddbbf3",
   "metadata": {},
   "outputs": [],
   "source": [
    "def hello(name):\n",
    "    print(f'Hello {name}')"
   ]
  },
  {
   "cell_type": "code",
   "execution_count": 5,
   "id": "06b75396",
   "metadata": {},
   "outputs": [
    {
     "name": "stdout",
     "output_type": "stream",
     "text": [
      "def hello(name):\n",
      "    print(f'Hello {name}')\n",
      "\n"
     ]
    }
   ],
   "source": [
    "print(inspect.getsource(hello))"
   ]
  },
  {
   "cell_type": "code",
   "execution_count": 6,
   "id": "6606cdd0",
   "metadata": {
    "scrolled": true
   },
   "outputs": [
    {
     "name": "stdout",
     "output_type": "stream",
     "text": [
      "def hello(name):\n",
      "    print(f'Hello {name}')\n",
      "\n"
     ]
    }
   ],
   "source": [
    "print(docstring_prompt(inspect.getsource(hello)))"
   ]
  },
  {
   "cell_type": "markdown",
   "id": "e5f7e1cb",
   "metadata": {},
   "source": [
    "## OpenAI API Call"
   ]
  },
  {
   "cell_type": "code",
   "execution_count": 7,
   "id": "187c6106",
   "metadata": {},
   "outputs": [
    {
     "data": {
      "text/plain": [
       "\"def hello(name):\\n    print(f'Hello {name}')\\n\""
      ]
     },
     "execution_count": 7,
     "metadata": {},
     "output_type": "execute_result"
    }
   ],
   "source": [
    "docstring_prompt(inspect.getsource(hello))"
   ]
  },
  {
   "cell_type": "code",
   "execution_count": 8,
   "id": "69b427b1",
   "metadata": {},
   "outputs": [],
   "source": [
    "response = client.chat.completions.create(\n",
    "  model=\"gpt-3.5-turbo\",\n",
    "  messages=[\n",
    "    {\"role\": \"system\", \"content\": create_system_prompt()},\n",
    "    {\"role\": \"user\", \"content\": docstring_prompt(inspect.getsource(hello))},\n",
    "  ],\n",
    "  temperature=0,\n",
    "  top_p=1.0,\n",
    "  frequency_penalty=0.0,\n",
    "  presence_penalty=0.0,\n",
    "  max_tokens=64,\n",
    ")\n"
   ]
  },
  {
   "cell_type": "code",
   "execution_count": 9,
   "id": "ebd1d7e0",
   "metadata": {},
   "outputs": [
    {
     "name": "stdout",
     "output_type": "stream",
     "text": [
      "\"\"\"\n",
      "Prints a greeting message with the given name.\n",
      "\n",
      "Parameters:\n",
      "- name (str): The name to be included in the greeting message.\n",
      "\n",
      "Returns:\n",
      "None\n",
      "\n",
      "Example:\n",
      ">>> hello('Alice')\n",
      "Hello Alice\n",
      "\"\"\"\n"
     ]
    }
   ],
   "source": [
    "print(response.choices[0].message.content)"
   ]
  },
  {
   "cell_type": "markdown",
   "id": "e5d2f1dc",
   "metadata": {},
   "source": [
    "## Combine docstring and function"
   ]
  },
  {
   "cell_type": "code",
   "execution_count": 10,
   "id": "4a3bb0f8",
   "metadata": {},
   "outputs": [],
   "source": [
    "def merge_docstring_and_function(original_function, docstring):\n",
    "    function_string = inspect.getsource(original_function)\n",
    "    split = function_string.split(\"\\n\")\n",
    "    first_part, second_part = split[0], split[1:]\n",
    "    docstring = '\\t'.join(docstring.splitlines(True))\n",
    "    merged_function = first_part + \"\\n\" + '    \"\"\"' + docstring + '    \"\"\"' + \"\\n\" + \"\\n\".join(second_part)\n",
    "    return merged_function"
   ]
  },
  {
   "cell_type": "code",
   "execution_count": 11,
   "id": "a11e5bfd",
   "metadata": {},
   "outputs": [],
   "source": [
    "merged_code = merge_docstring_and_function(hello, response.choices[0].message.content)"
   ]
  },
  {
   "cell_type": "code",
   "execution_count": 12,
   "id": "4edf79e7",
   "metadata": {},
   "outputs": [
    {
     "name": "stdout",
     "output_type": "stream",
     "text": [
      "def hello(name):\n",
      "    \"\"\"\"\"\"\n",
      "\tPrints a greeting message with the given name.\n",
      "\t\n",
      "\tParameters:\n",
      "\t- name (str): The name to be included in the greeting message.\n",
      "\t\n",
      "\tReturns:\n",
      "\tNone\n",
      "\t\n",
      "\tExample:\n",
      "\t>>> hello('Alice')\n",
      "\tHello Alice\n",
      "\t\"\"\"    \"\"\"\n",
      "    print(f'Hello {name}')\n",
      "\n"
     ]
    }
   ],
   "source": [
    "print(merged_code)"
   ]
  },
  {
   "cell_type": "markdown",
   "id": "89689c3a",
   "metadata": {},
   "source": [
    "## Get the docstring of a more complicated function"
   ]
  },
  {
   "cell_type": "code",
   "execution_count": 13,
   "id": "c7dfdf06",
   "metadata": {},
   "outputs": [],
   "source": [
    "def test_function(test, num_questions):\n",
    "    student_view = {1 : \"\"}\n",
    "    question_number = 1\n",
    "    for line in test.split(\"\\n\"):\n",
    "        if not line.startswith(\"Correct Answer:\"):\n",
    "            student_view[question_number] += line+\"\\n\"\n",
    "        else:\n",
    "\n",
    "            if question_number < num_questions:\n",
    "                question_number+=1\n",
    "                student_view[question_number] = \"\"\n",
    "    return student_view\n"
   ]
  },
  {
   "cell_type": "code",
   "execution_count": 14,
   "id": "4817f5fb",
   "metadata": {},
   "outputs": [],
   "source": [
    "response = client.chat.completions.create(\n",
    "  model=\"gpt-3.5-turbo\",\n",
    "  messages=[\n",
    "    {\"role\": \"system\", \"content\": create_system_prompt()},\n",
    "    {\"role\": \"user\", \"content\": docstring_prompt(inspect.getsource(test_function))},\n",
    "  ],\n",
    "  temperature=0,\n",
    "  top_p=1.0,\n",
    "  frequency_penalty=0.0,\n",
    "  presence_penalty=0.0,\n",
    "  max_tokens=256,\n",
    ")\n"
   ]
  },
  {
   "cell_type": "code",
   "execution_count": 15,
   "id": "cef18715",
   "metadata": {},
   "outputs": [
    {
     "name": "stdout",
     "output_type": "stream",
     "text": [
      "def test_function(test, num_questions):\n",
      "    \"\"\"This function takes in a test and the number of questions as input and returns a dictionary representing the student's view of the test. \n",
      "\t\n",
      "\tThe function first initializes a dictionary called `student_view` with a single key-value pair, where the key is 1 and the value is an empty string. This represents the student's view of the first question.\n",
      "\t\n",
      "\tThen, the function iterates over each line in the `test` string. If the line does not start with \"Correct Answer:\", it appends the line to the value of the current question in the `student_view` dictionary.\n",
      "\t\n",
      "\tIf the line does start with \"Correct Answer:\", it checks if the current question number is less than the total number of questions. If it is, it increments the question number by 1 and adds a new key-value pair to the `student_view` dictionary, where the key is the new question number and the value is an empty string. This represents the student's view of the next question.\n",
      "\t\n",
      "\tFinally, the function returns the `student_view` dictionary, which represents the student's view of the test. Each key in the dictionary corresponds to a question number, and the value is the student's response to that question.    \"\"\"\n",
      "    student_view = {1 : \"\"}\n",
      "    question_number = 1\n",
      "    for line in test.split(\"\\n\"):\n",
      "        if not line.startswith(\"Correct Answer:\"):\n",
      "            student_view[question_number] += line+\"\\n\"\n",
      "        else:\n",
      "\n",
      "            if question_number < num_questions:\n",
      "                question_number+=1\n",
      "                student_view[question_number] = \"\"\n",
      "    return student_view\n",
      "\n"
     ]
    }
   ],
   "source": [
    "merged_code = merge_docstring_and_function(test_function,  response.choices[0].message.content)\n",
    "print(merged_code)"
   ]
  },
  {
   "cell_type": "code",
   "execution_count": 16,
   "id": "0948bcb6",
   "metadata": {},
   "outputs": [],
   "source": [
    "def take(student_view):\n",
    "    answers = {}\n",
    "    for question, question_view in student_view.items():\n",
    "        print(question_view)\n",
    "        answer = input(\"Enter your answer: \")\n",
    "        answers[question] = answer\n",
    "    return answers\n"
   ]
  },
  {
   "cell_type": "code",
   "execution_count": 17,
   "id": "e9758f7a",
   "metadata": {},
   "outputs": [],
   "source": [
    "response = client.chat.completions.create(\n",
    "  model=\"gpt-3.5-turbo\",\n",
    "  messages=[\n",
    "    {\"role\": \"system\", \"content\": create_system_prompt()},\n",
    "    {\"role\": \"user\", \"content\": docstring_prompt(inspect.getsource(take))},\n",
    "  ],\n",
    "  temperature=0,\n",
    "  top_p=1.0,\n",
    "  frequency_penalty=0.0,\n",
    "  presence_penalty=0.0,\n",
    "  max_tokens=256,\n",
    ")\n"
   ]
  },
  {
   "cell_type": "code",
   "execution_count": 18,
   "id": "be0c0b4e",
   "metadata": {},
   "outputs": [
    {
     "name": "stdout",
     "output_type": "stream",
     "text": [
      "def take(student_view):\n",
      "    \"\"\"This function takes a dictionary `student_view` as input, where the keys represent questions and the values represent the views of those questions. It prompts the user to enter their answers for each question and stores them in a new dictionary `answers`. The function then returns the `answers` dictionary.\n",
      "\t\n",
      "\tParameters:\n",
      "\t- `student_view` (dict): A dictionary where the keys represent questions and the values represent the views of those questions.\n",
      "\t\n",
      "\tReturns:\n",
      "\t- `answers` (dict): A dictionary where the keys represent questions and the values represent the user's answers for those questions.    \"\"\"\n",
      "    answers = {}\n",
      "    for question, question_view in student_view.items():\n",
      "        print(question_view)\n",
      "        answer = input(\"Enter your answer: \")\n",
      "        answers[question] = answer\n",
      "    return answers\n",
      "\n"
     ]
    }
   ],
   "source": [
    "merged_code = merge_docstring_and_function(take, response.choices[0].message.content)\n",
    "print(merged_code)"
   ]
  }
 ],
 "metadata": {
  "kernelspec": {
   "display_name": "Python 3 (ipykernel)",
   "language": "python",
   "name": "python3"
  },
  "language_info": {
   "codemirror_mode": {
    "name": "ipython",
    "version": 3
   },
   "file_extension": ".py",
   "mimetype": "text/x-python",
   "name": "python",
   "nbconvert_exporter": "python",
   "pygments_lexer": "ipython3",
   "version": "3.9.0"
  },
  "vscode": {
   "interpreter": {
    "hash": "5455cba45dca8dec86c35d949ecf676492206ef67d9fdf2560e140a882ab099f"
   }
  }
 },
 "nbformat": 4,
 "nbformat_minor": 5
}
