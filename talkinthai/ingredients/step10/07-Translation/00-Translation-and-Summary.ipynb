{
 "cells": [
  {
   "cell_type": "markdown",
   "id": "bb083985",
   "metadata": {},
   "source": [
    "<a href = \"https://www.pieriantraining.com\"><img src=\"../PT Centered Purple.png\"> </a>\n",
    "\n",
    "<em style=\"text-align:center\">Copyrighted by Pierian Training</em>"
   ]
  },
  {
   "cell_type": "markdown",
   "id": "60a90ab6",
   "metadata": {},
   "source": [
    "## Translation and Summary of Foreign News\n",
    "\n",
    "The goal of this project will be to get a summary of news in foreign countries by automatically scraping a newspapers headlines or articles, and then translating the text with OpenAI and also providing a summary format.\n",
    "\n",
    "### Data (Web Scraping)\n",
    "\n",
    "Let's explore how we could set-up a scraping job (note this has its limits, not every website can be easily scraped, your results may vary on other newpaper sites)."
   ]
  },
  {
   "cell_type": "code",
   "execution_count": 1,
   "id": "890be8ea",
   "metadata": {},
   "outputs": [],
   "source": [
    "import requests\n",
    "import bs4"
   ]
  },
  {
   "cell_type": "code",
   "execution_count": 2,
   "id": "63b25c13",
   "metadata": {},
   "outputs": [],
   "source": [
    "# This is just a limited example dictionary\n",
    "# As each website is different, this gets harder with more countries!\n",
    "country_newspapers = {\"Spain\":'https://elpais.com/', \n",
    "                       \"France\":\"https://www.lemonde.fr/\"\n",
    "                     }"
   ]
  },
  {
   "cell_type": "code",
   "execution_count": 3,
   "id": "ba997951",
   "metadata": {},
   "outputs": [
    {
     "name": "stdout",
     "output_type": "stream",
     "text": [
      "What country are you interested in for a news summary? France\n"
     ]
    }
   ],
   "source": [
    "# Note how \n",
    "country = input(\"What country are you interested in for a news summary? \")"
   ]
  },
  {
   "cell_type": "code",
   "execution_count": 4,
   "id": "f2b6191b",
   "metadata": {},
   "outputs": [],
   "source": [
    "url = country_newspapers[country]"
   ]
  },
  {
   "cell_type": "code",
   "execution_count": 5,
   "id": "e28f81f8",
   "metadata": {},
   "outputs": [
    {
     "data": {
      "text/plain": [
       "'https://www.lemonde.fr/'"
      ]
     },
     "execution_count": 5,
     "metadata": {},
     "output_type": "execute_result"
    }
   ],
   "source": [
    "url"
   ]
  },
  {
   "cell_type": "code",
   "execution_count": 6,
   "id": "6107eba0",
   "metadata": {},
   "outputs": [],
   "source": [
    "result = requests.get(url)"
   ]
  },
  {
   "cell_type": "markdown",
   "id": "8ed0168b",
   "metadata": {},
   "source": [
    "### Parsing HTML "
   ]
  },
  {
   "cell_type": "code",
   "execution_count": 7,
   "id": "ab794597",
   "metadata": {},
   "outputs": [],
   "source": [
    "soup = bs4.BeautifulSoup(result.text,\"lxml\")"
   ]
  },
  {
   "cell_type": "code",
   "execution_count": 8,
   "id": "df039aa7",
   "metadata": {},
   "outputs": [
    {
     "data": {
      "text/plain": [
       "[<p class=\"article__title-label\">Trois morts et six blessés dans une attaque, selon la police israélienne</p>]"
      ]
     },
     "execution_count": 8,
     "metadata": {},
     "output_type": "execute_result"
    }
   ],
   "source": [
    "# France Le Monde\n",
    "soup.select('.article__title-label')"
   ]
  },
  {
   "cell_type": "markdown",
   "id": "833c5bba",
   "metadata": {},
   "source": [
    "Clearly, this won't be the same title tag for Spain's El Pais, let's quickly test that out, then we can recombine these tags into the dictionary to simplify and have all the information in one location."
   ]
  },
  {
   "cell_type": "code",
   "execution_count": 9,
   "id": "7a5dd616",
   "metadata": {},
   "outputs": [],
   "source": [
    "spain_results = requests.get('https://elpais.com/')\n",
    "soup = bs4.BeautifulSoup(spain_results.text,\"lxml\")"
   ]
  },
  {
   "cell_type": "code",
   "execution_count": 10,
   "id": "1efd1707",
   "metadata": {},
   "outputs": [
    {
     "data": {
      "text/plain": [
       "150"
      ]
     },
     "execution_count": 10,
     "metadata": {},
     "output_type": "execute_result"
    }
   ],
   "source": [
    "len(soup.select('.c_t'))"
   ]
  },
  {
   "cell_type": "code",
   "execution_count": 11,
   "id": "6c69c109",
   "metadata": {},
   "outputs": [
    {
     "data": {
      "text/plain": [
       "[<h2 class=\"c_t\"><a href=\"https://elpais.com/espana/2023-11-30/psoe-y-junts-pactan-ocultar-el-nombre-del-verificador-para-evitar-presiones.html\"><span class=\"c_t_i c_t_i-s _pr\" name=\"elpais_ico\"></span>El PSOE y Junts pactan ocultar la identidad del verificador para evitar presiones</a></h2>,\n",
       " <h2 class=\"c_t\"><a href=\"https://elpais.com/espana/2023-11-30/ultimas-noticias-de-la-actualidad-politica-en-directo.html\">Sánchez: “La amnistía no era el paso que quería dar, pero es coherente con la normalización en Cataluña”</a></h2>,\n",
       " <h2 class=\"c_t\"><a href=\"https://elpais.com/espana/catalunya/2023-11-30/el-pp-catalan-debe-superar-las-tutelas-y-tomar-sus-decisiones-de-manera-mas-libre.html\"><span class=\"c_t_i c_t_i-s _pr\" name=\"elpais_ico\"></span>Alejandro Fernández: “El PP catalán debe tomar las decisiones de forma más libre”</a></h2>]"
      ]
     },
     "execution_count": 11,
     "metadata": {},
     "output_type": "execute_result"
    }
   ],
   "source": [
    "soup.select('.c_t')[:3]"
   ]
  },
  {
   "cell_type": "markdown",
   "id": "ee48927b",
   "metadata": {},
   "source": [
    "#### Grabbing Text\n",
    "\n",
    "Now we just need to figure out how to grab these headlines text:"
   ]
  },
  {
   "cell_type": "code",
   "execution_count": 12,
   "id": "11670333",
   "metadata": {},
   "outputs": [
    {
     "name": "stdout",
     "output_type": "stream",
     "text": [
      "El PSOE y Junts pactan ocultar la identidad del verificador para evitar presiones\n",
      "Sánchez: “La amnistía no era el paso que quería dar, pero es coherente con la normalización en Cataluña”\n",
      "Alejandro Fernández: “El PP catalán debe tomar las decisiones de forma más libre”\n"
     ]
    }
   ],
   "source": [
    "for tag in soup.select('.c_t')[:3]:\n",
    "    print(tag.getText())"
   ]
  },
  {
   "cell_type": "markdown",
   "id": "50bca2d9",
   "metadata": {},
   "source": [
    "### Combining Dictionary Tag Title and URL"
   ]
  },
  {
   "cell_type": "code",
   "execution_count": 13,
   "id": "0ab3ab5a",
   "metadata": {},
   "outputs": [],
   "source": [
    "# \"Country\" : (URL,HTML_TAG)\n",
    "country_newspapers = {\"Spain\":('https://elpais.com/','.c_t'), \n",
    "                       \"France\":(\"https://www.lemonde.fr/\",'.article__title-label')\n",
    "                     }"
   ]
  },
  {
   "cell_type": "markdown",
   "id": "979cda17",
   "metadata": {},
   "source": [
    "## Translation via OpenAI"
   ]
  },
  {
   "cell_type": "code",
   "execution_count": 14,
   "id": "73da5b6e",
   "metadata": {},
   "outputs": [],
   "source": [
    "def create_system_prompt():\n",
    "    return \"Detect the language of the news headlines below, then translate a summary of the headlines to English in a conversational tone.\""
   ]
  },
  {
   "cell_type": "code",
   "execution_count": 15,
   "id": "f07ccd93",
   "metadata": {},
   "outputs": [],
   "source": [
    "def create_prompt():\n",
    "    # Get Country\n",
    "    country = input(\"What country would you like a news summary for? \")\n",
    "    # Get country's URL newspaper and the HTML Tag for titles\n",
    "    try:\n",
    "        url,tag = country_newspapers[country]\n",
    "    except:\n",
    "        print(\"Sorry that country is not supported!\")\n",
    "        return\n",
    "    \n",
    "    # Scrape the Website\n",
    "    results = requests.get(url)\n",
    "    soup = bs4.BeautifulSoup(results.text,\"lxml\")\n",
    "    \n",
    "    # Grab all the text\n",
    "    country_headlines = ''\n",
    "    for item in soup.select(tag)[:3]:\n",
    "        country_headlines += item.getText()+'\\n'\n",
    "        \n",
    "    return country_headlines"
   ]
  },
  {
   "cell_type": "code",
   "execution_count": 16,
   "id": "cc9f48b2",
   "metadata": {},
   "outputs": [
    {
     "name": "stdout",
     "output_type": "stream",
     "text": [
      "What country would you like a news summary for? Spain\n"
     ]
    }
   ],
   "source": [
    "prompt = create_prompt()"
   ]
  },
  {
   "cell_type": "code",
   "execution_count": 17,
   "id": "fe9943e4",
   "metadata": {},
   "outputs": [
    {
     "name": "stdout",
     "output_type": "stream",
     "text": [
      "El PSOE y Junts pactan ocultar la identidad del verificador para evitar presiones\n",
      "Sánchez: “La amnistía no era el paso que quería dar, pero es coherente con la normalización en Cataluña”\n",
      "Alejandro Fernández: “El PP catalán debe tomar las decisiones de forma más libre”\n",
      "\n"
     ]
    }
   ],
   "source": [
    "print(prompt)"
   ]
  },
  {
   "cell_type": "code",
   "execution_count": 18,
   "id": "a2e77339",
   "metadata": {},
   "outputs": [],
   "source": [
    "from openai import OpenAI\n",
    "client = OpenAI()"
   ]
  },
  {
   "cell_type": "code",
   "execution_count": 19,
   "id": "f4a6eef2",
   "metadata": {},
   "outputs": [],
   "source": [
    "response = client.chat.completions.create(\n",
    "            model=\"gpt-3.5-turbo\",\n",
    "            messages=[\n",
    "                {\"role\": \"system\", \"content\": create_system_prompt()},\n",
    "                {\"role\": \"user\", \"content\": prompt},\n",
    "            ],\n",
    "            temperature=0.1, # Helps conversational tone a bit, optional\n",
    "            top_p=1.0,\n",
    "            frequency_penalty=0.0,\n",
    "            presence_penalty=0.0,\n",
    "            max_tokens=200,\n",
    ")\n"
   ]
  },
  {
   "cell_type": "code",
   "execution_count": 21,
   "id": "973dab45",
   "metadata": {},
   "outputs": [
    {
     "name": "stdout",
     "output_type": "stream",
     "text": [
      "ChatCompletionMessage(content='The first headline is in Spanish. It says \"PSOE and Junts agree to hide the identity of the verifier to avoid pressure.\" This refers to a political agreement between the Spanish Socialist Workers\\' Party (PSOE) and Junts, a Catalan political party, to keep the identity of the verifier of the Catalan independence process confidential in order to prevent external pressures.\\n\\nThe second headline is also in Spanish. It says \"Sánchez: \\'Amnesty was not the step I wanted to take, but it is consistent with normalization in Catalonia\\'.\" This is a statement made by Pedro Sánchez, the leader of PSOE and the Prime Minister of Spain, regarding the controversial topic of amnesty for Catalan politicians involved in the independence movement. Sánchez explains that while amnesty was not his preferred approach, it aligns with the goal of normalizing the situation in Catalonia.\\n\\nThe third headline is also in Spanish. It says \"Alejandro Fernández: \\'Catalan PP should make decisions more freely\\'.\"', role='assistant', function_call=None, tool_calls=None)\n"
     ]
    }
   ],
   "source": [
    "print(response.choices[0].message)"
   ]
  }
 ],
 "metadata": {
  "kernelspec": {
   "display_name": "Python 3 (ipykernel)",
   "language": "python",
   "name": "python3"
  },
  "language_info": {
   "codemirror_mode": {
    "name": "ipython",
    "version": 3
   },
   "file_extension": ".py",
   "mimetype": "text/x-python",
   "name": "python",
   "nbconvert_exporter": "python",
   "pygments_lexer": "ipython3",
   "version": "3.9.0"
  }
 },
 "nbformat": 4,
 "nbformat_minor": 5
}
