{
 "cells": [
  {
   "cell_type": "markdown",
   "id": "1c03747c",
   "metadata": {},
   "source": [
    "<a href = \"https://www.pieriantraining.com\"><img src=\"../PT Centered Purple.png\"> </a>\n",
    "\n",
    "<em style=\"text-align:center\">Copyrighted by Pierian Training</em>"
   ]
  },
  {
   "cell_type": "markdown",
   "id": "895e4848",
   "metadata": {},
   "source": [
    "## Automatic Test Generation\n",
    "\n",
    "In this project, we will build an automatic test generation and grading platform!\n",
    "All we have to do is to provide a topic, the number of questions and the number of options for each question!\n",
    "Based on this information, a suitable test is generated, presented to the user and graded automatically!"
   ]
  },
  {
   "cell_type": "markdown",
   "id": "cf8a5e50",
   "metadata": {},
   "source": [
    "## Imports"
   ]
  },
  {
   "cell_type": "code",
   "execution_count": 1,
   "id": "8430a15c",
   "metadata": {},
   "outputs": [],
   "source": [
    "import os\n",
    "from openai import OpenAI\n"
   ]
  },
  {
   "cell_type": "markdown",
   "id": "d1311999",
   "metadata": {},
   "source": [
    "## OpenAI API\n",
    "\n",
    "Remember to use the notebook as shown, you must set your OpenAI API Key as an environment variable. Obviously, there are many ways you could provide your API Key to the Python code, input() or even hard-coded, but those are typically not recommended for safety reasons. Having it as an environment variable let's the key live on the computer, but not actually be present in the code.\n",
    "\n"
   ]
  },
  {
   "cell_type": "code",
   "execution_count": 2,
   "id": "e575ce6d",
   "metadata": {},
   "outputs": [],
   "source": [
    "client = OpenAI()"
   ]
  },
  {
   "cell_type": "markdown",
   "id": "c9333385",
   "metadata": {},
   "source": [
    "### Tell GPT how to generate the test\n",
    "\n",
    "We tell GPT to create a multiple choiz quiz. Hence we define the topic, the number of possible answers as well as the number of questions.\n",
    "To enable automatical grading later, GPT needs to incorporate the correct answer!\n"
   ]
  },
  {
   "cell_type": "code",
   "execution_count": 3,
   "id": "9cadae39",
   "metadata": {},
   "outputs": [],
   "source": [
    "def create_system_prompt():\n",
    "    system_prompt = \"You are a helpful assistant for test generation.\"\n",
    "    return system_prompt"
   ]
  },
  {
   "cell_type": "code",
   "execution_count": 4,
   "id": "50f35344",
   "metadata": {},
   "outputs": [],
   "source": [
    "def create_test_prompt(topic, num_questions, num_possible_answers):\n",
    "    prompt = f\"Create a multiple choice quiz on the topic of {topic} consisting of {num_questions} questions. \" \\\n",
    "                 + f\"Each question should have {num_possible_answers} options. \"\\\n",
    "                 + f\"Also include the correct answer for each question using the starting string 'Correct Answer: '.\"\n",
    "    return prompt"
   ]
  },
  {
   "cell_type": "code",
   "execution_count": 5,
   "id": "86db2bc3",
   "metadata": {},
   "outputs": [
    {
     "data": {
      "text/plain": [
       "\"Create a multiple choice quiz on the topic of Python consisting of 4 questions. Each question should have 4 options. Also include the correct answer for each question using the starting string 'Correct Answer: '.\""
      ]
     },
     "execution_count": 5,
     "metadata": {},
     "output_type": "execute_result"
    }
   ],
   "source": [
    "create_test_prompt(\"Python\", 4, 4)"
   ]
  },
  {
   "cell_type": "markdown",
   "id": "0fc3ec9f",
   "metadata": {},
   "source": [
    "### OpenAI API Call\n",
    "Let's use gpt-3.5-turbo"
   ]
  },
  {
   "cell_type": "code",
   "execution_count": 6,
   "id": "930d61b4",
   "metadata": {},
   "outputs": [],
   "source": [
    "response = client.chat.completions.create(\n",
    "  model=\"gpt-3.5-turbo\",\n",
    "  messages=[\n",
    "    {\"role\": \"system\", \"content\": create_system_prompt()},\n",
    "    {\"role\": \"user\", \"content\": create_test_prompt(\"Python\", 4, 4)},\n",
    "  ]\n",
    ")\n"
   ]
  },
  {
   "cell_type": "code",
   "execution_count": 7,
   "id": "7da58566",
   "metadata": {},
   "outputs": [
    {
     "data": {
      "text/plain": [
       "ChatCompletion(id='chatcmpl-8QVPZTsRX758MZKkiiW7RC7oSRWzN', choices=[Choice(finish_reason='stop', index=0, message=ChatCompletionMessage(content='Here is a multiple choice quiz on the topic of Python:\\n\\n1. What is Python?\\n   a) A high-level programming language\\n   b) A type of snake\\n   c) A mathematical equation\\n   d) A computer hardware\\n\\nCorrect Answer: a) A high-level programming language\\n\\n2. Which of the following is NOT a data type in Python?\\n   a) String\\n   b) Integer\\n   c) Float\\n   d) Boolean\\n\\nCorrect Answer: d) Boolean\\n\\n3. What is the correct way to declare a variable in Python?\\n   a) var x = 5\\n   b) int x = 5\\n   c) x = 5\\n   d) declare x = 5\\n\\nCorrect Answer: c) x = 5\\n\\n4. What is the output of the following code?\\n   x = 5\\n   y = 2\\n   print(x + y * 2)\\n\\n   a) 9\\n   b) 10\\n   c) 12\\n   d) 7\\n\\nCorrect Answer: b) 10', role='assistant', function_call=None, tool_calls=None))], created=1701327965, model='gpt-3.5-turbo-0613', object='chat.completion', system_fingerprint=None, usage=CompletionUsage(completion_tokens=223, prompt_tokens=61, total_tokens=284))"
      ]
     },
     "execution_count": 7,
     "metadata": {},
     "output_type": "execute_result"
    }
   ],
   "source": [
    "response"
   ]
  },
  {
   "cell_type": "code",
   "execution_count": 8,
   "id": "38688eb8",
   "metadata": {},
   "outputs": [
    {
     "name": "stdout",
     "output_type": "stream",
     "text": [
      "Here is a multiple choice quiz on the topic of Python:\n",
      "\n",
      "1. What is Python?\n",
      "   a) A high-level programming language\n",
      "   b) A type of snake\n",
      "   c) A mathematical equation\n",
      "   d) A computer hardware\n",
      "\n",
      "Correct Answer: a) A high-level programming language\n",
      "\n",
      "2. Which of the following is NOT a data type in Python?\n",
      "   a) String\n",
      "   b) Integer\n",
      "   c) Float\n",
      "   d) Boolean\n",
      "\n",
      "Correct Answer: d) Boolean\n",
      "\n",
      "3. What is the correct way to declare a variable in Python?\n",
      "   a) var x = 5\n",
      "   b) int x = 5\n",
      "   c) x = 5\n",
      "   d) declare x = 5\n",
      "\n",
      "Correct Answer: c) x = 5\n",
      "\n",
      "4. What is the output of the following code?\n",
      "   x = 5\n",
      "   y = 2\n",
      "   print(x + y * 2)\n",
      "\n",
      "   a) 9\n",
      "   b) 10\n",
      "   c) 12\n",
      "   d) 7\n",
      "\n",
      "Correct Answer: b) 10\n"
     ]
    }
   ],
   "source": [
    "print(response.choices[0].message.content)"
   ]
  },
  {
   "cell_type": "markdown",
   "id": "a428a8e5",
   "metadata": {},
   "source": [
    "### Q/A Extraction\n",
    "\n",
    "We now need to extract the questions and answers to present them to the students later"
   ]
  },
  {
   "cell_type": "code",
   "execution_count": 9,
   "id": "31e6ad53",
   "metadata": {},
   "outputs": [],
   "source": [
    "def create_student_view(test, num_questions):\n",
    "    student_view = {1 : \"\"}\n",
    "    question_number = 1\n",
    "    for line in test.split(\"\\n\"):\n",
    "        if not line.startswith(\"Correct Answer:\"):\n",
    "            student_view[question_number] += line+\"\\n\"\n",
    "        else:\n",
    "\n",
    "            if question_number < num_questions:\n",
    "                question_number+=1\n",
    "                student_view[question_number] = \"\"\n",
    "    return student_view\n",
    " "
   ]
  },
  {
   "cell_type": "code",
   "execution_count": 10,
   "id": "6e92ffd5",
   "metadata": {},
   "outputs": [
    {
     "data": {
      "text/plain": [
       "{1: 'Here is a multiple choice quiz on the topic of Python:\\n\\n1. What is Python?\\n   a) A high-level programming language\\n   b) A type of snake\\n   c) A mathematical equation\\n   d) A computer hardware\\n\\n',\n",
       " 2: '\\n2. Which of the following is NOT a data type in Python?\\n   a) String\\n   b) Integer\\n   c) Float\\n   d) Boolean\\n\\n',\n",
       " 3: '\\n3. What is the correct way to declare a variable in Python?\\n   a) var x = 5\\n   b) int x = 5\\n   c) x = 5\\n   d) declare x = 5\\n\\n',\n",
       " 4: '\\n4. What is the output of the following code?\\n   x = 5\\n   y = 2\\n   print(x + y * 2)\\n\\n   a) 9\\n   b) 10\\n   c) 12\\n   d) 7\\n\\n'}"
      ]
     },
     "execution_count": 10,
     "metadata": {},
     "output_type": "execute_result"
    }
   ],
   "source": [
    "create_student_view(response.choices[0].message.content, 4)"
   ]
  },
  {
   "cell_type": "code",
   "execution_count": 11,
   "id": "86f196d0",
   "metadata": {},
   "outputs": [],
   "source": [
    "def extract_answers(test, num_questions):\n",
    "    answers = {1 : \"\"}\n",
    "    question_number = 1\n",
    "    for line in test.split(\"\\n\"):\n",
    "        if line.startswith(\"Correct Answer:\"):\n",
    "            answers[question_number] += line+\"\\n\"\n",
    "\n",
    "            if question_number < num_questions:\n",
    "                question_number+=1\n",
    "                answers[question_number] = \"\"\n",
    "    return answers\n",
    "\n"
   ]
  },
  {
   "cell_type": "code",
   "execution_count": 12,
   "id": "e49a648e",
   "metadata": {},
   "outputs": [
    {
     "data": {
      "text/plain": [
       "{1: 'Correct Answer: a) A high-level programming language\\n',\n",
       " 2: 'Correct Answer: d) Boolean\\n',\n",
       " 3: 'Correct Answer: c) x = 5\\n',\n",
       " 4: 'Correct Answer: b) 10\\n'}"
      ]
     },
     "execution_count": 12,
     "metadata": {},
     "output_type": "execute_result"
    }
   ],
   "source": [
    "extract_answers(response.choices[0].message.content, 4)"
   ]
  },
  {
   "cell_type": "markdown",
   "id": "13127b2e",
   "metadata": {},
   "source": [
    "### Exam simulation\n",
    "Based on the extracted questions, we can now simulate the exam"
   ]
  },
  {
   "cell_type": "code",
   "execution_count": 13,
   "id": "a8336521",
   "metadata": {},
   "outputs": [],
   "source": [
    "def take(student_view):\n",
    "    answers = {}\n",
    "    for question, question_view in student_view.items():\n",
    "        print(question_view)\n",
    "        answer = input(\"Enter your answer: \")\n",
    "        answers[question] = answer\n",
    "    return answers\n"
   ]
  },
  {
   "cell_type": "code",
   "execution_count": 14,
   "id": "f8f0a9dc",
   "metadata": {},
   "outputs": [
    {
     "name": "stdout",
     "output_type": "stream",
     "text": [
      "Here is a multiple choice quiz on the topic of Python:\n",
      "\n",
      "1. What is Python?\n",
      "   a) A high-level programming language\n",
      "   b) A type of snake\n",
      "   c) A mathematical equation\n",
      "   d) A computer hardware\n",
      "\n",
      "\n",
      "Enter your answer: A\n",
      "\n",
      "2. Which of the following is NOT a data type in Python?\n",
      "   a) String\n",
      "   b) Integer\n",
      "   c) Float\n",
      "   d) Boolean\n",
      "\n",
      "\n",
      "Enter your answer: D\n",
      "\n",
      "3. What is the correct way to declare a variable in Python?\n",
      "   a) var x = 5\n",
      "   b) int x = 5\n",
      "   c) x = 5\n",
      "   d) declare x = 5\n",
      "\n",
      "\n",
      "Enter your answer: c\n",
      "\n",
      "4. What is the output of the following code?\n",
      "   x = 5\n",
      "   y = 2\n",
      "   print(x + y * 2)\n",
      "\n",
      "   a) 9\n",
      "   b) 10\n",
      "   c) 12\n",
      "   d) 7\n",
      "\n",
      "\n",
      "Enter your answer: a\n"
     ]
    }
   ],
   "source": [
    "student_answers = take(create_student_view(response.choices[0].message.content, 4))"
   ]
  },
  {
   "cell_type": "markdown",
   "id": "2426f423",
   "metadata": {},
   "source": [
    "### Automatic Grading\n",
    "Based on the student's answers and correct answers, we can now grade the test!"
   ]
  },
  {
   "cell_type": "code",
   "execution_count": 15,
   "id": "689597b8",
   "metadata": {},
   "outputs": [],
   "source": [
    "def grade(correct_answer_dict, answers):\n",
    "    correct_answers = 0\n",
    "    for question, answer in answers.items():\n",
    "        if answer.upper() == correct_answer_dict[question].upper()[16]:\n",
    "            correct_answers+=1\n",
    "    grade = 100 * correct_answers / len(answers)\n",
    "\n",
    "    if grade < 60:\n",
    "        passed = \"Not passed!\"\n",
    "    else:\n",
    "        passed = \"Passed!\"\n",
    "    return f\"{correct_answers} out of {len(answers)} correct! You achieved: {grade} % : {passed}\"\n"
   ]
  },
  {
   "cell_type": "code",
   "execution_count": 16,
   "id": "91bba050",
   "metadata": {},
   "outputs": [
    {
     "data": {
      "text/plain": [
       "'3 out of 4 correct! You achieved: 75.0 % : Passed!'"
      ]
     },
     "execution_count": 16,
     "metadata": {},
     "output_type": "execute_result"
    }
   ],
   "source": [
    "grade(extract_answers(response.choices[0].message.content, 4), student_answers)"
   ]
  }
 ],
 "metadata": {
  "kernelspec": {
   "display_name": "Python 3 (ipykernel)",
   "language": "python",
   "name": "python3"
  },
  "language_info": {
   "codemirror_mode": {
    "name": "ipython",
    "version": 3
   },
   "file_extension": ".py",
   "mimetype": "text/x-python",
   "name": "python",
   "nbconvert_exporter": "python",
   "pygments_lexer": "ipython3",
   "version": "3.9.0"
  }
 },
 "nbformat": 4,
 "nbformat_minor": 5
}
