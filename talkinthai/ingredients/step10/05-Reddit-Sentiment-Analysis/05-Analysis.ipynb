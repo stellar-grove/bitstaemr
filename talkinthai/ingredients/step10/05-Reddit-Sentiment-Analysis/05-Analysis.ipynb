{
 "cells": [
  {
   "cell_type": "markdown",
   "id": "3bb769e0",
   "metadata": {},
   "source": [
    "<a href = \"https://www.pieriantraining.com\"><img src=\"../PT Centered Purple.png\"> </a>\n",
    "\n",
    "<em style=\"text-align:center\">Copyrighted by Pierian Training</em>"
   ]
  },
  {
   "cell_type": "markdown",
   "id": "50ef79d9",
   "metadata": {},
   "source": [
    "## Reddit API:\n",
    "1. Go to https://www.reddit.com/prefs/apps\n",
    "2. Click \"create application\"\n",
    "3. Name: My Sentiment Example\n",
    "4. Choose script\n",
    "5. Leave *description* and *about url* blank\n",
    "6. Add http://www.example.com/unused/redirect/uri to *redirect uri*"
   ]
  },
  {
   "cell_type": "markdown",
   "id": "0c82159c",
   "metadata": {},
   "source": [
    "## Imports"
   ]
  },
  {
   "cell_type": "code",
   "execution_count": 7,
   "id": "3f8439a1",
   "metadata": {},
   "outputs": [],
   "source": [
    "import praw\n",
    "from openai import OpenAI"
   ]
  },
  {
   "cell_type": "code",
   "execution_count": 2,
   "id": "99e65c62",
   "metadata": {},
   "outputs": [
    {
     "name": "stderr",
     "output_type": "stream",
     "text": [
      "Version 7.6.1 of praw is outdated. Version 7.7.1 was released Tuesday July 11, 2023.\n"
     ]
    }
   ],
   "source": [
    "reddit = praw.Reddit(client_id=\"TODO\", # the App ID retreived from the reddit application\n",
    "                     client_secret=\"TODO\", # the secret retreived from the reddit application\n",
    "                     user_agent=\"sentiment analysis test (by u/YourUserName)\"  # add your reddit name\n",
    "                    )"
   ]
  },
  {
   "cell_type": "markdown",
   "id": "7a3cbf37",
   "metadata": {},
   "source": [
    "We can now already use our reddit instance to obtain public information from reddit!"
   ]
  },
  {
   "cell_type": "code",
   "execution_count": 3,
   "id": "239d2340",
   "metadata": {},
   "outputs": [
    {
     "name": "stdout",
     "output_type": "stream",
     "text": [
      "test\n",
      "test\n",
      "Test Submission\n",
      "test for photos\n",
      "test nerd\n",
      "Test\n",
      "T234\n",
      "A test post\n",
      "test\n",
      "test\n"
     ]
    }
   ],
   "source": [
    "for submission in reddit.subreddit(\"test\").hot(limit=10):\n",
    "    print(submission.title)\n"
   ]
  },
  {
   "cell_type": "markdown",
   "id": "d96e40a7",
   "metadata": {},
   "source": [
    "Of course we want to access hot subreddits like r/wallstreetbets or r/stocks"
   ]
  },
  {
   "cell_type": "code",
   "execution_count": 4,
   "id": "e2ba3e2c",
   "metadata": {},
   "outputs": [],
   "source": [
    "subreddit_stocks = reddit.subreddit(\"stocks\")"
   ]
  },
  {
   "cell_type": "code",
   "execution_count": 5,
   "id": "4978a90b",
   "metadata": {},
   "outputs": [
    {
     "name": "stdout",
     "output_type": "stream",
     "text": [
      "stocks\n",
      "Stocks - Investing and trading for all\n",
      "3192\n"
     ]
    }
   ],
   "source": [
    "print(subreddit_stocks.display_name)\n",
    "print(subreddit_stocks.title)\n",
    "print(subreddit_stocks.accounts_active)"
   ]
  },
  {
   "cell_type": "markdown",
   "id": "9ca002e6",
   "metadata": {},
   "source": [
    "Let's say we want to access the first 5 hot posts and three most upvoted comments:"
   ]
  },
  {
   "cell_type": "code",
   "execution_count": 6,
   "id": "8c56d721",
   "metadata": {},
   "outputs": [
    {
     "name": "stdout",
     "output_type": "stream",
     "text": [
      "Rate My Portfolio - r/Stocks Quarterly Thread September 2023\n",
      "My [last post](https://www.reddit.com/r/stocks/comments/11ezwar/rate_my_portfolio_rstocks_quarterly_thread_march/jah0b73/) was 6 months ago.\n",
      "\n",
      "To recap, a brief overview of my strategy, that has not since changed:\n",
      "\n",
      "> I am 26, so I have several decades until retirement. My goal is to hold the stocks in my portfolio perpetually, though I'm not reserved to make adjustments and sell when a) I see an opportunity to take profits b) my thesis changes. My long term goal is passive income generation, though I don't chase yields. I don't pay much attention to valuation or macro, as I think that since I plan on holding these stocks for decades while buying every month, those don't matter to me much.\n",
      "\n",
      "> I invest regularly every month, so I'm okay with buying at a higher valuation at times and lower valuation at other times. In my opinion, buying at the best possible time is more difficult than buying a good company. That said, if I see an undervalued stock I like, I don't hesitate to buy more and when I make my regular contributions, I try weigh towards stocks that might have been beaten down or seem undervalued.\n",
      "\n",
      "> I like stocks that are quality companies with:\n",
      "\n",
      "> -\tA sustainable business model - high cash flow generation, high ROIC / ROCE, good balance sheet. Bonus points for recurring, diversified revenue, and optionality.\n",
      "> -\tBusiness model and products I understand, or at least understand their value. I don't think I'll ever understand ASML's machines, but I understand why it's one of a kind company.\n",
      "> -\tA wide moat. Bonus points are for brand value, network effect, IP, barriers to entry / high switching costs, supply chain, etc. I am okay with paying a high multiple for a company that cannot be replicated by throwing money at the problem. Almost every company I own scores very high in this regard in my own checklist.\n",
      "> -\tHigh margins. I focus mostly on gross margin, but consider other margin metrics, too.\n",
      "> -\tSustainable buybacks and dividend growth.\n",
      "> -\tGreat management.\n",
      "\n",
      "I made some changes to my portfolio:\n",
      "\n",
      "- I no longer own the CARB carbon allowance ETF. It was good for some hedging but I wanted to simplify my approach a bit.\n",
      "- I no longer own small cap and EM ETFs. I only have MSCI World ETF (15%) and MSCI World Quality ETF (10%). I wanted to intensify my focus on quality companies and simplify my approach.\n",
      "\n",
      "- I sold BN & BAM, UNP, LMT, ADBE, JNJ. I was no longer comfortable with Brookfield's structure and my lack of understanding it, so I sold all my Brookfield holdings after almost 4 years I've held them. ADBE had really nice growth and I felt better taking the profits. I like that they will probably adapt to generative AI pretty well. I love the company and might buy back later. UNP, LMT, JNJ are all good but I think I wanted to focus on more innovative (less so with LMT) and consumer oriented businesses (less so with JNJ).\n",
      "\n",
      "- I bought LVMH, LLY, PM, IDXX, ZTS, L'oreal, META. I briefly held EL which I sold (at loss) and bought L'oreal instead.\n",
      "\n",
      "- I increased the weights of my core holdings. 6 of my stocks (MSFT, AAPL, ASML, V, MA, NVO) account for >50% of my stocks, 9 (+ LVMH, GOOG, COST) account for 50% of my overall portfolio.\n",
      "\n",
      "My current holdings:\n",
      "\n",
      "| **Name**                        | Ticker | Return | Weight | Target weight |\n",
      "|---------------------------------|--------|-------:|-------:|--------------:|\n",
      "| **MSCI World**                  |        |  23,7% |  14,6% |         15,0% |\n",
      "| **MSCI World Quality**          |        |  31,9% |   9,8% |         10,0% |\n",
      "| **Microsoft**                   | MSFT   |  51,9% |   7,6% |          6,5% |\n",
      "| **Apple**                       | AAPL   |  48,2% |   6,8% |          6,5% |\n",
      "| **ASML Holding**                | ASML   |   9,7% |   6,4% |          6,5% |\n",
      "| **Visa**                        | V      |  15,1% |   6,2% |          6,0% |\n",
      "| **MasterCard**                  | MA     |  20,1% |   5,8% |          6,0% |\n",
      "| **Novo Nordisk**                | NVO    |  31,1% |   5,2% |          5,5% |\n",
      "| **LVMH**                        | EPA:MC |  -5,9% |   5,0% |          4,5% |\n",
      "| **Costco**                      | COST   |   6,8% |   3,8% |          4,0% |\n",
      "| **Alphabet**                    | GOOG   |  33,3% |   4,5% |          3,5% |\n",
      "| **Eli Lilly**                   | LLY    |  15,1% |   1,9% |          3,5% |\n",
      "| **The Home Depot**              | HD     |  13,1% |   4,4% |          3,0% |\n",
      "| **Ulta Beauty**                 | ULTA   |   3,9% |   3,8% |          3,0% |\n",
      "| **Intuitive Surgical**          | ISRG   |  71,7% |   3,4% |          3,0% |\n",
      "| **Meta Platforms**              | META   |  51,3% |   2,9% |          3,0% |\n",
      "| **L'Oreal**                     | EPA:OR |   2,1% |   1,5% |          3,0% |\n",
      "| **Philip Morris International** | PM     |   1,2% |   2,7% |          2,5% |\n",
      "| **Zoetis**                      | ZTS    |  14,6% |   2,1% |          2,5% |\n",
      "| **Idexx Laboratories**          | IDXX   |   5,1% |   1,4% |          2,5% |\n",
      "\n",
      "I view all of these as great companies with a history of compounding and a great future driven by secular trends. I think the themes of my portfolio are pretty clear:\n",
      "\n",
      "- Big tech with massive cash flows and wide moat (AAPL, MSFT, ASML, GOOG, META). I was hesitant about buying Meta, but the numbers are so good. The semiconductor business is too complicated for my liking, so I tend to avoid those companies (I briefly owned AMD and NVDA a few years ago). ASML is even more complicated, but that's part of the monopoly and it seems like they are decades ahead of any competition, especially with protectionist policies from the US and EU. NVDA matches a lot of what I look for in the company, but I think there is and will be too much volatility, so I'm not buying it.\n",
      "\n",
      "- Toll booth companies for a world with growing cashless payments (MA, V). Some of the greatest businesses in the world. Not much more to say. There might be competition in the future, but their scale gives them so many advantages.\n",
      "\n",
      "- Aging society, obesity, diabetes (NVO, LLY, ISRG). NVO and LLY are probably the two best pharma companies in the world. They might seem overvalued, but once you look into the companies, you realize they really are that great. NVO and LLY now also pretty much make miracle drugs with an ever increasing number of patients. Even without Wegovy / Ozempic / Mounjaro they have amazing numbers. Now they'll have walking happy advertisements walking around. The benefits of the drugs clearly outsize the side effects, so once it becomes accessible, it will be great business.\n",
      "\n",
      "- Quality retail / consumer stocks with loyal customers, good business models, high market share (LVMH, COST, HD, ULTA).\n",
      "\n",
      "- Luxury, beauty, cosmetics (LVMH, ULTA, L'oreal). LVMH is an incredibly well managed conglomerate, probably one of the greatest in the world. There are companies that are centuries old and it's unbelievable how huge they made the luxury market. I recommend the [Acquired podcast episode](https://open.spotify.com/episode/7lMY1C8AMFinpVMTgAH9D9) about the company. ULTA has incredible customer loyalty and growth. I'm curious if they can expand internationally sometime later. L'Oreal is similarly a giant conglomerate. I at first went with Estee Lauder, but it seems like the next few years will be volatile. I believe EL will be very strong in the future, but I don't want to risk the short term volatility. L'Oreal is very similar and the entire beauty industry is very hard to penetrate because these two companies and a few other have consolidated so much of the market and they will buy out any potentially large competitor. I can't see it ever changing. I can't imagine a future where this trend of skincare, beauty is ever reversed, and it only stands to grow as these generations grow older and healthspans grow longer all around the world. I am sure ULTA and Sephora (within LVMH) benefit from this as well.\n",
      "\n",
      "- A growing market of pet owners who grow ever closer to their companions (ZTS, IDXX). It's crazy how close millenials and gen Z are to their pets. They are part of family. They are already willing to spend so much on their pets at the expense of their own comfort. As their pets grow older, they will be even closer and they will need to spend a lot on their care. IDEXX has the benefit that diagnostics is much more important with pets as they cannot communicate their symptoms.\n",
      "\n",
      "- Not really a theme, but for some nice dividends I got a nicotine holding, I went with PM. This is one I've hesitated about a lot. I'm not going to write a whole analysis, since it's such a small holding, but I don't see our society ever leaving nicotine and I expect we will see a huge continuing growth in smokeless nicotine products. This might sound contrarian, but I wouldn't be surprised if nicotine was much more normalized in the future (in decades time) as a supplement similar to caffeine. The winners will almost certainly be big tobacco companies as it is and likely will remain a highly regulated market with high entry barriers. Even if that doesn't happen, I think there is still money to be made in cigarettes, as even though the number of smokers decreases in most of the world, the revenue is not dropping yet. And I think there is a generation of nicotine addicts growing up in most of the world due to flavored vapes and nicotine pouches.\n",
      "25% TSLA  \n",
      "25% NVDA  \n",
      "25% MSFT  \n",
      "25% AAPL\n",
      "Conservative Supreme Court justices seem open to an attack on the Securities and Exchange Commission\n"
     ]
    },
    {
     "name": "stdout",
     "output_type": "stream",
     "text": [
      "Ok fine, but all cases heard by a jury will result in real consequences rather than just a fine or disgorgement. Right now the SEC determines if you broke their rules and slaps you on the wrist with a fine. If these types of things go in front of a jury i want to see a conviction of fraud and jail time.\n",
      "Yeah bad idea. It will be too easy for technical and complex cases to confound layman jurors.\n",
      "US economic growth for last quarter is revised up to a 5.2% annual rate\n",
      "Bears in shambles\n",
      "Economy can handle 6%\n",
      "\n",
      "Do it jay\n",
      "Why do you think Warren Buffett hates Nike stock ($NKE) so much?\n",
      "Probably because the shoe and clothing industry is one of the hardest and any brand tomorrow can be “ out of style “  . \n",
      "\n",
      "He doesn’t invest in what he doesn’t understand and he 100% isn’t into fashion\n",
      "Hearing Munger speak in the Acquired podcast interview, he specifically said he (and therefore I assume Buffett) don’t like “style companies” in general, and Nike was specifically brought up as an example. In the rare cases where they own apparel businesses, they seem more utilitarian in nature, less tied to brand appeal.\n",
      "\n",
      "Nike has been an enduring brand for many years…but preferences can and do evolve in unpredictable ways. If you’re someone with no personal knowledge of the winds of fashion and consumer preference that affect a given brand (raising my hand here), it probably makes sense to avoid those brands in general.\n",
      "US access and identity management giant Okta admits hackers accessed data on all customers during recent breach\n",
      "sounds like a clusterfuck\n",
      "My company uses them as our 2FA. I’m surprised they haven’t posted an announcement about it asking us to change things.\n"
     ]
    }
   ],
   "source": [
    "for post in subreddit_stocks.hot(limit=5):\n",
    "    print(post.title)\n",
    "    submission = reddit.submission(post.id)\n",
    "    c = 0\n",
    "    for comment in submission.comments:\n",
    "        comment = comment.body\n",
    "        if not comment == \"[deleted]\":\n",
    "            print(comment)\n",
    "            c+=1\n",
    "        if c == 2:\n",
    "            break"
   ]
  },
  {
   "cell_type": "markdown",
   "id": "c31f370d",
   "metadata": {},
   "source": [
    "We can now use GPT to extract stock tickers from all of these posts and tell us whether the sentiment for the mentioned assets is positive, neutral or negative:"
   ]
  },
  {
   "cell_type": "markdown",
   "id": "e5480358",
   "metadata": {},
   "source": [
    "## OpenAI API\n",
    "\n",
    "Remember to use the notebook as shown, you must set your OpenAI API Key as an environment variable. Obviously, there are many ways you could provide your API Key to the Python code, input() or even hard-coded, but those are typically not recommended for safety reasons. Having it as an environment variable let's the key live on the computer, but not actually be present in the code.\n"
   ]
  },
  {
   "cell_type": "code",
   "execution_count": 8,
   "id": "149550f5",
   "metadata": {},
   "outputs": [],
   "source": [
    "client = OpenAI()"
   ]
  },
  {
   "cell_type": "markdown",
   "id": "27abbc84",
   "metadata": {},
   "source": [
    "## Prompt Generation\n",
    "First, we need to create a dictionary containing the title and top three comments"
   ]
  },
  {
   "cell_type": "code",
   "execution_count": 9,
   "id": "abc5a92d",
   "metadata": {},
   "outputs": [
    {
     "data": {
      "text/plain": [
       "<bound method BaseListingMixin.hot of Subreddit(display_name='stocks')>"
      ]
     },
     "execution_count": 9,
     "metadata": {},
     "output_type": "execute_result"
    }
   ],
   "source": [
    "getattr(subreddit_stocks, \"hot\")"
   ]
  },
  {
   "cell_type": "code",
   "execution_count": 10,
   "id": "9424948d",
   "metadata": {},
   "outputs": [],
   "source": [
    "def get_titles_and_comments(subreddit=\"stocks\", sub_instance=\"hot\", limit=10, num_comments=2, skip_first=2):\n",
    "    subreddit = reddit.subreddit(subreddit)\n",
    "    titles_and_comments = {}\n",
    "    for c, post in enumerate(getattr(subreddit, sub_instance)(limit=limit)):\n",
    "        \n",
    "        if c < skip_first:\n",
    "            continue\n",
    "        \n",
    "        c+=(1-skip_first)\n",
    "        \n",
    "        titles_and_comments[c] = \"\"\n",
    "\n",
    "        submission = reddit.submission(post.id)\n",
    "        title = post.title\n",
    "        \n",
    "        titles_and_comments[c] += \"Title: \" + title  + \"\\n\\n\"\n",
    "        titles_and_comments[c] += \"Comments: \\n\\n\"\n",
    "        \n",
    "        comment_counter = 0\n",
    "        for comment in submission.comments:\n",
    "            comment = comment.body\n",
    "            if not comment == \"[deleted]\":\n",
    "                titles_and_comments[c] += comment + \"\\n\"\n",
    "                comment_counter+=1\n",
    "            if comment_counter == num_comments:\n",
    "                break\n",
    "\n",
    "    return titles_and_comments"
   ]
  },
  {
   "cell_type": "code",
   "execution_count": 11,
   "id": "bdba4923",
   "metadata": {},
   "outputs": [],
   "source": [
    "titles_and_comments = get_titles_and_comments(subreddit=\"stocks\", limit=12)"
   ]
  },
  {
   "cell_type": "code",
   "execution_count": 12,
   "id": "0aa5842d",
   "metadata": {},
   "outputs": [
    {
     "name": "stdout",
     "output_type": "stream",
     "text": [
      "Title: Why do you think Warren Buffett hates Nike stock ($NKE) so much?\n",
      "\n",
      "Comments: \n",
      "\n",
      "Probably because the shoe and clothing industry is one of the hardest and any brand tomorrow can be “ out of style “  . \n",
      "\n",
      "He doesn’t invest in what he doesn’t understand and he 100% isn’t into fashion\n",
      "Hearing Munger speak in the Acquired podcast interview, he specifically said he (and therefore I assume Buffett) don’t like “style companies” in general, and Nike was specifically brought up as an example. In the rare cases where they own apparel businesses, they seem more utilitarian in nature, less tied to brand appeal.\n",
      "\n",
      "Nike has been an enduring brand for many years…but preferences can and do evolve in unpredictable ways. If you’re someone with no personal knowledge of the winds of fashion and consumer preference that affect a given brand (raising my hand here), it probably makes sense to avoid those brands in general.\n",
      "\n"
     ]
    }
   ],
   "source": [
    "print(titles_and_comments[2])"
   ]
  },
  {
   "cell_type": "code",
   "execution_count": 16,
   "id": "dbf1395f",
   "metadata": {},
   "outputs": [],
   "source": [
    "def create_system_prompt():\n",
    "    return \"You are a helpful assistant for sentiment analysis.\"\n",
    "\n",
    "def create_prompt(title_and_comments):\n",
    "\n",
    "    task = \"Return the stock ticker or company in the following heading and comments and classify the sentiment. If no ticker or company is mentioned write 'No company mentioned':\\n\\n\"\n",
    "    return task + title_and_comments\n"
   ]
  },
  {
   "cell_type": "code",
   "execution_count": 17,
   "id": "1c761a05",
   "metadata": {},
   "outputs": [],
   "source": [
    "system_prompt = create_system_prompt()\n",
    "prompt = create_prompt(titles_and_comments[1])"
   ]
  },
  {
   "cell_type": "code",
   "execution_count": 18,
   "id": "85fcd8b3",
   "metadata": {},
   "outputs": [
    {
     "name": "stdout",
     "output_type": "stream",
     "text": [
      "Return the stock ticker or company in the following heading and comments and classify the sentiment. If no ticker or company is mentioned write 'No company mentioned':\n",
      "\n",
      "Title: US economic growth for last quarter is revised up to a 5.2% annual rate\n",
      "\n",
      "Comments: \n",
      "\n",
      "Bears in shambles\n",
      "Economy can handle 6%\n",
      "\n",
      "Do it jay\n",
      "\n"
     ]
    }
   ],
   "source": [
    "print(prompt)"
   ]
  },
  {
   "cell_type": "code",
   "execution_count": 22,
   "id": "84b80bdd",
   "metadata": {
    "scrolled": false
   },
   "outputs": [
    {
     "name": "stdout",
     "output_type": "stream",
     "text": [
      "Title: US economic growth for last quarter is revised up to a 5.2% annual rate\n",
      "\n",
      "Comments: \n",
      "\n",
      "Bears in shambles\n",
      "Economy can handle 6%\n",
      "\n",
      "Do it jay\n",
      "\n",
      "Sentiment: Title: No company mentioned\n",
      "Sentiment: Neutral\n",
      "\n",
      "Comments:\n",
      "1. No company mentioned\n",
      "   Sentiment: Negative\n",
      "\n",
      "2. No company mentioned\n",
      "   Sentiment: Neutral\n",
      "\n",
      "3. No company mentioned\n",
      "   Sentiment: Neutral\n",
      "------------------------------\n",
      "Title: Why do you think Warren Buffett hates Nike stock ($NKE) so much?\n",
      "\n",
      "Comments: \n",
      "\n",
      "Probably because the shoe and clothing industry is one of the hardest and any brand tomorrow can be “ out of style “  . \n",
      "\n",
      "He doesn’t invest in what he doesn’t understand and he 100% isn’t into fashion\n",
      "Hearing Munger speak in the Acquired podcast interview, he specifically said he (and therefore I assume Buffett) don’t like “style companies” in general, and Nike was specifically brought up as an example. In the rare cases where they own apparel businesses, they seem more utilitarian in nature, less tied to brand appeal.\n",
      "\n",
      "Nike has been an enduring brand for many years…but preferences can and do evolve in unpredictable ways. If you’re someone with no personal knowledge of the winds of fashion and consumer preference that affect a given brand (raising my hand here), it probably makes sense to avoid those brands in general.\n",
      "\n",
      "Sentiment: Title: Why do you think Warren Buffett hates Nike stock ($NKE) so much?\n",
      "\n",
      "Comments: \n",
      "\n",
      "- No company mentioned\n",
      "\n",
      "Sentiment: Neutral\n",
      "\n",
      "Comments:\n",
      "\n",
      "- No company mentioned\n",
      "\n",
      "Sentiment: Neutral\n",
      "\n",
      "Comments:\n",
      "\n",
      "- No company mentioned\n",
      "\n",
      "Sentiment: Neutral\n",
      "------------------------------\n",
      "Title: US access and identity management giant Okta admits hackers accessed data on all customers during recent breach\n",
      "\n",
      "Comments: \n",
      "\n",
      "sounds like a clusterfuck\n",
      "My company uses them as our 2FA. I’m surprised they haven’t posted an announcement about it asking us to change things.\n",
      "\n",
      "Sentiment: Ticker/Company: Okta\n",
      "\n",
      "Sentiment: Negative\n",
      "------------------------------\n",
      "Title: Charlie Munger, investing genius and Warren Buffett’s right-hand man, dies at age 99\n",
      "\n",
      "Comments: \n",
      "\n",
      "I just removed a bunch of comments that were budding keyboard slapfights on the merits of capitalism. \n",
      "\n",
      "This is your reminder that r/stocks isn’t the place for that and this post will be moderated as such.\n",
      "Listened to the Acquired podcast he did not that long ago crazy how lucid the man was for his age.\n",
      "\n",
      "Sentiment: Ticker/Company: No company mentioned\n",
      "Sentiment: Neutral\n",
      "------------------------------\n",
      "Title: Blackstone (BX) acquires pet care app Rover (ROVR) in $2.3 billion all-cash deal\n",
      "\n",
      "Comments: \n",
      "\n",
      "Buying it for $2.3 billion and it seems to have 0.2 billion *sales*.    12 P/S.  Appears to just match up inquiries with vendors?  They must be seeing something there that I'm not.\n",
      "\n",
      "Sentiment: Ticker/Company: Blackstone (BX), Rover (ROVR)\n",
      "Sentiment: Neutral\n",
      "------------------------------\n",
      "Title: 500 XOM (keep or sell?)\n",
      "\n",
      "Comments: \n",
      "\n",
      "Hold. XOM seems promising. Good dividend.\n",
      "Why would you sell? \n",
      "\n",
      "Great dividend, large buyback, strong balance sheet, pioneer merger, and a good plan for growth with the lithium production in Arkansas, chemical products in China, etc. Lot of room for more gains in the coming years.\n",
      "\n",
      "Sentiment: Ticker/Company: XOM (Exxon Mobil Corporation)\n",
      "Sentiment: Positive\n",
      "------------------------------\n",
      "Title: Thoughts on Buybacks\n",
      "\n",
      "Comments: \n",
      "\n",
      "Welcome to r/stocks!\n",
      "\n",
      "For beginner advice, brokerage info, book recommendations, even advanced topics and more, please read our [Wiki here.](https://www.reddit.com/r/stocks/wiki/index)\n",
      "\n",
      "If you're wondering **why a stock moved** a certain way, check out [Finviz](https://finviz.com/quote.ashx?t=spy) which aggregates the most news for almost every stock, but also see [Reuters](https://www.reuters.com/), and even [Yahoo Finance](https://finance.yahoo.com/).\n",
      "\n",
      "Please direct all simple questions towards the stickied Daily Discussion and Quarterly Rate My Portfolio threads (sort by Hot, they're at the top).\n",
      "\n",
      "Also include *some* [due diligence](https://www.investopedia.com/terms/d/duediligence.asp) to this post or it may be removed if it's low effort.\n",
      "\n",
      "*I am a bot, and this action was performed automatically. Please [contact the moderators of this subreddit](/message/compose/?to=/r/stocks) if you have any questions or concerns.*\n",
      "A buyback is just a tax advantaged dividend \n",
      "\n",
      "But you don’t actually control that dividend since it technically remains with the company.\n",
      "\n",
      "Sentiment: No company mentioned\n",
      "\n",
      "Sentiment: Neutral\n",
      "------------------------------\n",
      "Title: GM to raise dividend and increase buybacks\n",
      "\n",
      "Comments: \n",
      "\n",
      "Just a couple of months ago GM was claiming they didn't have the money to settle the UAW contract. Now all of the sudden they can find money for a higher dividend and stock buybacks. I hope they get reminded of this when contract talks roll around in another three years.\n",
      "Charlie Munger said, “I’ll never understand stock buybacks when the sole purpose is to inflate the stock price.”\n",
      "\n",
      "Sentiment: Ticker/Company: GM (General Motors)\n",
      "\n",
      "Sentiment: Negative\n",
      "------------------------------\n",
      "Title: Cigna tumbles on Humana merger talk reports\n",
      "\n",
      "Comments: \n",
      "\n",
      "Oh goodie, that’ll bring down healthcare costs /s\n",
      "No position in either, but have been watching $HUM for a while. I can’t imagine this deal gets approved by regulators. Anyone buying here?\n",
      "\n",
      "Sentiment: Title: Cigna (ticker: CI)\n",
      "\n",
      "Comments:\n",
      "- No company mentioned\n",
      "- No company mentioned\n",
      "------------------------------\n",
      "Title: Thoughts on $VVOS?\n",
      "\n",
      "Comments: \n",
      "\n",
      "Welcome to r/stocks!\n",
      "\n",
      "For beginner advice, brokerage info, book recommendations, even advanced topics and more, please read our [Wiki here.](https://www.reddit.com/r/stocks/wiki/index)\n",
      "\n",
      "If you're wondering **why a stock moved** a certain way, check out [Finviz](https://finviz.com/quote.ashx?t=spy) which aggregates the most news for almost every stock, but also see [Reuters](https://www.reuters.com/), and even [Yahoo Finance](https://finance.yahoo.com/).\n",
      "\n",
      "Please direct all simple questions towards the stickied Daily Discussion and Quarterly Rate My Portfolio threads (sort by Hot, they're at the top).\n",
      "\n",
      "Also include *some* [due diligence](https://www.investopedia.com/terms/d/duediligence.asp) to this post or it may be removed if it's low effort.\n",
      "\n",
      "*I am a bot, and this action was performed automatically. Please [contact the moderators of this subreddit](/message/compose/?to=/r/stocks) if you have any questions or concerns.*\n",
      "You own the company and can’t even answer those questions? Why did you buy in the first place?\n",
      "\n",
      "Sentiment: Title: Thoughts on $VVOS?\n",
      "No company mentioned\n",
      "\n",
      "Comments:\n",
      "No company mentioned\n",
      "------------------------------\n"
     ]
    }
   ],
   "source": [
    "for key, title_and_comments in titles_and_comments.items():\n",
    "    \n",
    "    prompt = create_prompt(title_and_comments)\n",
    "    \n",
    "    response = client.chat.completions.create(model=\"gpt-3.5-turbo\",\n",
    "                                                messages=[\n",
    "                                                    {\"role\": \"system\", \"content\": system_prompt},\n",
    "                                                    {\"role\": \"user\", \"content\": prompt},\n",
    "                                                ],\n",
    "                                                temperature=0,\n",
    "                                                top_p=1.0,\n",
    "                                                frequency_penalty=0.0,\n",
    "                                                presence_penalty=0.0)\n",
    "    print(title_and_comments)\n",
    "    print(\"Sentiment: \" + response.choices[0].message.content)\n",
    "    print(\"-\"*30)"
   ]
  },
  {
   "cell_type": "code",
   "execution_count": null,
   "id": "ef437b9b",
   "metadata": {},
   "outputs": [],
   "source": []
  }
 ],
 "metadata": {
  "kernelspec": {
   "display_name": "Python 3 (ipykernel)",
   "language": "python",
   "name": "python3"
  },
  "language_info": {
   "codemirror_mode": {
    "name": "ipython",
    "version": 3
   },
   "file_extension": ".py",
   "mimetype": "text/x-python",
   "name": "python",
   "nbconvert_exporter": "python",
   "pygments_lexer": "ipython3",
   "version": "3.9.0"
  }
 },
 "nbformat": 4,
 "nbformat_minor": 5
}
