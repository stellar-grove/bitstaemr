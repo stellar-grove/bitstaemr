{
 "cells": [
  {
   "cell_type": "markdown",
   "id": "01e5e9aa",
   "metadata": {},
   "source": [
    "<a href = \"https://www.pieriantraining.com\"><img src=\"../PT Centered Purple.png\"> </a>\n",
    "\n",
    "<em style=\"text-align:center\">Copyrighted by Pierian Training</em>"
   ]
  },
  {
   "cell_type": "markdown",
   "id": "4036a12b",
   "metadata": {},
   "source": [
    "# History ChatBot Tutor\n",
    "\n",
    "**WARNING: Remember that models are prone to hallucination! There is no gaurantee that the model is giving you accurate information. Alright, let's get on with building this tutor bot**"
   ]
  },
  {
   "cell_type": "code",
   "execution_count": 13,
   "id": "5780f319",
   "metadata": {},
   "outputs": [],
   "source": [
    "import tiktoken\n",
    "from openai import OpenAI"
   ]
  },
  {
   "cell_type": "code",
   "execution_count": 3,
   "id": "a77e017d",
   "metadata": {},
   "outputs": [],
   "source": [
    "client = OpenAI()\n",
    "class CreateBot:\n",
    "    \n",
    "    def __init__(self, system_prompt):\n",
    "        '''\n",
    "        system_prompt: [str] Describes context for Chat Assistant\n",
    "        '''\n",
    "        self.system = system_prompt\n",
    "        self.messages = [{\"role\": \"system\", \"content\": system_prompt}]\n",
    "        \n",
    "    \n",
    "    def chat(self):\n",
    "        '''\n",
    "        Tracks dialogue history and takes in user input\n",
    "        '''\n",
    "        print('To end conversation, type END')\n",
    "        question = ''\n",
    "        while question != 'END':\n",
    "            # Get User Question\n",
    "            question = input(\"\")\n",
    "            \n",
    "            # Add to messages/dialogue history\n",
    "            self.messages.append({'role':'user','content':question})\n",
    "\n",
    "            #Send to ChatGPT and get response\n",
    "            response = client.chat.completions.create(\n",
    "                  model=\"gpt-3.5-turbo\",\n",
    "                  messages=self.messages)\n",
    "\n",
    "            # Get content of assistant reply\n",
    "            content = response.choices[0].message.content\n",
    "            print('\\n')\n",
    "            print(content)\n",
    "            print('\\n')\n",
    "            # Add assistant reply for dialogue history\n",
    "            self.messages.append({'role':'assistant','content':content})"
   ]
  },
  {
   "cell_type": "code",
   "execution_count": 4,
   "id": "6c1a30a4",
   "metadata": {},
   "outputs": [],
   "source": [
    "history_tutor = CreateBot(system_prompt=\"You are an expert in US History\")"
   ]
  },
  {
   "cell_type": "code",
   "execution_count": 5,
   "id": "931ed58f",
   "metadata": {
    "scrolled": false
   },
   "outputs": [
    {
     "name": "stdout",
     "output_type": "stream",
     "text": [
      "To end conversation, type END\n",
      "What was the first president of the US?\n",
      "\n",
      "\n",
      "The first president of the United States was George Washington. He served as president from 1789 to 1797.\n",
      "\n",
      "\n",
      "Who was his wife?\n",
      "\n",
      "\n",
      "George Washington's wife was Martha Washington. They were married in 1759.\n",
      "\n",
      "\n",
      "END\n",
      "\n",
      "\n",
      "Thank you for using Ask an Expert! If you have any more questions in the future, feel free to ask. Have a great day!\n",
      "\n",
      "\n"
     ]
    }
   ],
   "source": [
    "history_tutor.chat()"
   ]
  },
  {
   "cell_type": "markdown",
   "id": "7f85d2b9",
   "metadata": {},
   "source": [
    "### Token Length Check\n",
    "\n",
    "One last note, we currently didn't add a check for very long conversations, you could do a token count check, and if it went over you could start removing older messages, for example:"
   ]
  },
  {
   "cell_type": "code",
   "execution_count": 14,
   "id": "c80b1a59",
   "metadata": {},
   "outputs": [],
   "source": [
    "full_content = ''\n",
    "for item in history_tutor.messages:\n",
    "    full_content += item['content']"
   ]
  },
  {
   "cell_type": "code",
   "execution_count": 15,
   "id": "e35154da",
   "metadata": {},
   "outputs": [],
   "source": [
    "def num_tokens_from_string(string, encoding_name):\n",
    "    \"\"\"Returns the number of tokens in a text string.\"\"\"\n",
    "    encoding = tiktoken.get_encoding(encoding_name)\n",
    "    num_tokens = len(encoding.encode(string))\n",
    "    return num_tokens"
   ]
  },
  {
   "cell_type": "code",
   "execution_count": 16,
   "id": "a8208cc5",
   "metadata": {},
   "outputs": [
    {
     "data": {
      "text/plain": [
       "89"
      ]
     },
     "execution_count": 16,
     "metadata": {},
     "output_type": "execute_result"
    }
   ],
   "source": [
    "num_tokens_from_string(full_content,encoding_name='cl100k_base')"
   ]
  },
  {
   "cell_type": "code",
   "execution_count": 17,
   "id": "cd120843",
   "metadata": {},
   "outputs": [
    {
     "data": {
      "text/plain": [
       "{'role': 'user', 'content': 'What was the first president of the US?'}"
      ]
     },
     "execution_count": 17,
     "metadata": {},
     "output_type": "execute_result"
    }
   ],
   "source": [
    "# Don't pop index 0, because that is the system role!\n",
    "history_tutor.messages.pop(1)"
   ]
  }
 ],
 "metadata": {
  "kernelspec": {
   "display_name": "Python 3 (ipykernel)",
   "language": "python",
   "name": "python3"
  },
  "language_info": {
   "codemirror_mode": {
    "name": "ipython",
    "version": 3
   },
   "file_extension": ".py",
   "mimetype": "text/x-python",
   "name": "python",
   "nbconvert_exporter": "python",
   "pygments_lexer": "ipython3",
   "version": "3.9.0"
  }
 },
 "nbformat": 4,
 "nbformat_minor": 5
}
